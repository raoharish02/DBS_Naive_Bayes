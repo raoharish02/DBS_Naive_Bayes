{
 "cells": [
  {
   "cell_type": "markdown",
   "metadata": {},
   "source": [
    "### import the packages and the data"
   ]
  },
  {
   "cell_type": "code",
   "execution_count": 1,
   "metadata": {},
   "outputs": [],
   "source": [
    "import pandas as pd\n",
    "import pandas_profiling\n",
    "import matplotlib.pyplot as plt\n",
    "import numpy as np\n",
    "%matplotlib inline\n",
    "\n",
    "import seaborn as sns"
   ]
  },
  {
   "cell_type": "code",
   "execution_count": 2,
   "metadata": {},
   "outputs": [],
   "source": [
    "# Load the data\n",
    "data = pd.read_csv('D:/Sampledata/bank-additional.csv', sep = \";\")"
   ]
  },
  {
   "cell_type": "markdown",
   "metadata": {},
   "source": [
    "### UDF's"
   ]
  },
  {
   "cell_type": "code",
   "execution_count": 3,
   "metadata": {},
   "outputs": [],
   "source": [
    "# Create Data audit Report for continuous variables\n",
    "def continuous_var_summary(x):\n",
    "    return pd.Series([x.count(), x.isnull().sum(), x.sum(), x.mean(), x.median(),  \n",
    "                      x.std(), x.var(), x.min(), x.quantile(0.01), x.quantile(0.05),\n",
    "                          x.quantile(0.10),x.quantile(0.25),x.quantile(0.50),x.quantile(0.75), \n",
    "                              x.quantile(0.90),x.quantile(0.95), x.quantile(0.99),x.max()], \n",
    "                  index = ['N', 'NMISS', 'SUM', 'MEAN','MEDIAN', 'STD', 'VAR', 'MIN', 'P1', \n",
    "                               'P5' ,'P10' ,'P25' ,'P50' ,'P75' ,'P90' ,'P95' ,'P99' ,'MAX'])"
   ]
  },
  {
   "cell_type": "code",
   "execution_count": 4,
   "metadata": {},
   "outputs": [],
   "source": [
    "# Create Data audit Report for categorical variables\n",
    "def categorical_var_summary(x):\n",
    "    Mode = x.value_counts().sort_values(ascending = False)[0:1].reset_index()\n",
    "    return pd.Series([x.count(), x.isnull().sum(), Mode.iloc[0, 0], Mode.iloc[0, 1], \n",
    "                          round(Mode.iloc[0, 1] * 100/x.count(), 2)], \n",
    "                  index = ['N', 'NMISS', 'MODE', 'FREQ', 'PERCENT'])"
   ]
  },
  {
   "cell_type": "code",
   "execution_count": 5,
   "metadata": {},
   "outputs": [],
   "source": [
    "# Missing value imputation for categorical and continuous variables\n",
    "def missing_imputation(x, stats = 'mean'):\n",
    "    if (x.dtypes == 'float64') | (x.dtypes == 'int64'):\n",
    "        x = x.fillna(x.mean()) if stats == 'mean' else x.fillna(x.median())\n",
    "    else:\n",
    "        x = x.fillna(x.mode())\n",
    "    return x"
   ]
  },
  {
   "cell_type": "code",
   "execution_count": 6,
   "metadata": {},
   "outputs": [],
   "source": [
    "# An utility function to create dummy variable\n",
    "def create_dummies(df, colname):\n",
    "    col_dummies = pd.get_dummies(df[colname], prefix = colname, drop_first = True)\n",
    "    df = pd.concat([df, col_dummies], axis = 1)\n",
    "    df.drop(colname, axis = 1, inplace = True )\n",
    "    return df"
   ]
  },
  {
   "cell_type": "code",
   "execution_count": 7,
   "metadata": {},
   "outputs": [],
   "source": [
    "# create user defined function to create the freq plots\n",
    "def fn_countplot(pd_series):\n",
    "    plt.figure(figsize = (5, 3))\n",
    "    sns.countplot(y = pd_series)\n",
    "    print('This is a freq chart for ' + pd_series.name)\n",
    "    plt.show()\n",
    "    return"
   ]
  },
  {
   "cell_type": "markdown",
   "metadata": {},
   "source": [
    "### data inspection"
   ]
  },
  {
   "cell_type": "code",
   "execution_count": 8,
   "metadata": {
    "scrolled": true
   },
   "outputs": [
    {
     "name": "stdout",
     "output_type": "stream",
     "text": [
      "<class 'pandas.core.frame.DataFrame'>\n",
      "RangeIndex: 4119 entries, 0 to 4118\n",
      "Data columns (total 21 columns):\n",
      "age               4119 non-null int64\n",
      "job               4119 non-null object\n",
      "marital           4119 non-null object\n",
      "education         4119 non-null object\n",
      "default           4119 non-null object\n",
      "housing           4119 non-null object\n",
      "loan              4119 non-null object\n",
      "contact           4119 non-null object\n",
      "month             4119 non-null object\n",
      "day_of_week       4119 non-null object\n",
      "duration          4119 non-null int64\n",
      "campaign          4119 non-null int64\n",
      "pdays             4119 non-null int64\n",
      "previous          4119 non-null int64\n",
      "poutcome          4119 non-null object\n",
      "emp.var.rate      4119 non-null float64\n",
      "cons.price.idx    4119 non-null float64\n",
      "cons.conf.idx     4119 non-null float64\n",
      "euribor3m         4119 non-null float64\n",
      "nr.employed       4119 non-null float64\n",
      "y                 4119 non-null object\n",
      "dtypes: float64(5), int64(5), object(11)\n",
      "memory usage: 675.9+ KB\n"
     ]
    }
   ],
   "source": [
    "# meta data\n",
    "data.info()"
   ]
  },
  {
   "cell_type": "code",
   "execution_count": 9,
   "metadata": {},
   "outputs": [],
   "source": [
    "# create pandas profiling report\n",
    "profilereport = pandas_profiling.ProfileReport(data)\n",
    "profilereport.to_file('profilereport.html')"
   ]
  },
  {
   "cell_type": "code",
   "execution_count": 10,
   "metadata": {},
   "outputs": [
    {
     "data": {
      "text/html": [
       "<div>\n",
       "<style scoped>\n",
       "    .dataframe tbody tr th:only-of-type {\n",
       "        vertical-align: middle;\n",
       "    }\n",
       "\n",
       "    .dataframe tbody tr th {\n",
       "        vertical-align: top;\n",
       "    }\n",
       "\n",
       "    .dataframe thead th {\n",
       "        text-align: right;\n",
       "    }\n",
       "</style>\n",
       "<table border=\"1\" class=\"dataframe\">\n",
       "  <thead>\n",
       "    <tr style=\"text-align: right;\">\n",
       "      <th></th>\n",
       "      <th>N</th>\n",
       "      <th>NMISS</th>\n",
       "      <th>SUM</th>\n",
       "      <th>MEAN</th>\n",
       "      <th>MEDIAN</th>\n",
       "      <th>STD</th>\n",
       "      <th>VAR</th>\n",
       "      <th>MIN</th>\n",
       "      <th>P1</th>\n",
       "      <th>P5</th>\n",
       "      <th>P10</th>\n",
       "      <th>P25</th>\n",
       "      <th>P50</th>\n",
       "      <th>P75</th>\n",
       "      <th>P90</th>\n",
       "      <th>P95</th>\n",
       "      <th>P99</th>\n",
       "      <th>MAX</th>\n",
       "    </tr>\n",
       "  </thead>\n",
       "  <tbody>\n",
       "    <tr>\n",
       "      <th>age</th>\n",
       "      <td>4119.0</td>\n",
       "      <td>0.0</td>\n",
       "      <td>1.652280e+05</td>\n",
       "      <td>40.113620</td>\n",
       "      <td>38.000</td>\n",
       "      <td>10.313362</td>\n",
       "      <td>106.365426</td>\n",
       "      <td>18.000</td>\n",
       "      <td>24.000</td>\n",
       "      <td>26.0000</td>\n",
       "      <td>28.800</td>\n",
       "      <td>32.000</td>\n",
       "      <td>38.000</td>\n",
       "      <td>47.000</td>\n",
       "      <td>55.000</td>\n",
       "      <td>58.000</td>\n",
       "      <td>68.000</td>\n",
       "      <td>88.000</td>\n",
       "    </tr>\n",
       "    <tr>\n",
       "      <th>duration</th>\n",
       "      <td>4119.0</td>\n",
       "      <td>0.0</td>\n",
       "      <td>1.057710e+06</td>\n",
       "      <td>256.788055</td>\n",
       "      <td>181.000</td>\n",
       "      <td>254.703736</td>\n",
       "      <td>64873.993194</td>\n",
       "      <td>0.000</td>\n",
       "      <td>11.000</td>\n",
       "      <td>35.0000</td>\n",
       "      <td>60.000</td>\n",
       "      <td>103.000</td>\n",
       "      <td>181.000</td>\n",
       "      <td>317.000</td>\n",
       "      <td>545.200</td>\n",
       "      <td>740.200</td>\n",
       "      <td>1231.660</td>\n",
       "      <td>3643.000</td>\n",
       "    </tr>\n",
       "    <tr>\n",
       "      <th>campaign</th>\n",
       "      <td>4119.0</td>\n",
       "      <td>0.0</td>\n",
       "      <td>1.045100e+04</td>\n",
       "      <td>2.537266</td>\n",
       "      <td>2.000</td>\n",
       "      <td>2.568159</td>\n",
       "      <td>6.595442</td>\n",
       "      <td>1.000</td>\n",
       "      <td>1.000</td>\n",
       "      <td>1.0000</td>\n",
       "      <td>1.000</td>\n",
       "      <td>1.000</td>\n",
       "      <td>2.000</td>\n",
       "      <td>3.000</td>\n",
       "      <td>5.000</td>\n",
       "      <td>7.000</td>\n",
       "      <td>13.000</td>\n",
       "      <td>35.000</td>\n",
       "    </tr>\n",
       "    <tr>\n",
       "      <th>pdays</th>\n",
       "      <td>4119.0</td>\n",
       "      <td>0.0</td>\n",
       "      <td>3.955979e+06</td>\n",
       "      <td>960.422190</td>\n",
       "      <td>999.000</td>\n",
       "      <td>191.922786</td>\n",
       "      <td>36834.355710</td>\n",
       "      <td>0.000</td>\n",
       "      <td>3.000</td>\n",
       "      <td>999.0000</td>\n",
       "      <td>999.000</td>\n",
       "      <td>999.000</td>\n",
       "      <td>999.000</td>\n",
       "      <td>999.000</td>\n",
       "      <td>999.000</td>\n",
       "      <td>999.000</td>\n",
       "      <td>999.000</td>\n",
       "      <td>999.000</td>\n",
       "    </tr>\n",
       "    <tr>\n",
       "      <th>previous</th>\n",
       "      <td>4119.0</td>\n",
       "      <td>0.0</td>\n",
       "      <td>7.840000e+02</td>\n",
       "      <td>0.190337</td>\n",
       "      <td>0.000</td>\n",
       "      <td>0.541788</td>\n",
       "      <td>0.293535</td>\n",
       "      <td>0.000</td>\n",
       "      <td>0.000</td>\n",
       "      <td>0.0000</td>\n",
       "      <td>0.000</td>\n",
       "      <td>0.000</td>\n",
       "      <td>0.000</td>\n",
       "      <td>0.000</td>\n",
       "      <td>1.000</td>\n",
       "      <td>1.000</td>\n",
       "      <td>3.000</td>\n",
       "      <td>6.000</td>\n",
       "    </tr>\n",
       "    <tr>\n",
       "      <th>emp.var.rate</th>\n",
       "      <td>4119.0</td>\n",
       "      <td>0.0</td>\n",
       "      <td>3.500000e+02</td>\n",
       "      <td>0.084972</td>\n",
       "      <td>1.100</td>\n",
       "      <td>1.563114</td>\n",
       "      <td>2.443327</td>\n",
       "      <td>-3.400</td>\n",
       "      <td>-3.400</td>\n",
       "      <td>-2.9000</td>\n",
       "      <td>-1.800</td>\n",
       "      <td>-1.800</td>\n",
       "      <td>1.100</td>\n",
       "      <td>1.400</td>\n",
       "      <td>1.400</td>\n",
       "      <td>1.400</td>\n",
       "      <td>1.400</td>\n",
       "      <td>1.400</td>\n",
       "    </tr>\n",
       "    <tr>\n",
       "      <th>cons.price.idx</th>\n",
       "      <td>4119.0</td>\n",
       "      <td>0.0</td>\n",
       "      <td>3.854548e+05</td>\n",
       "      <td>93.579704</td>\n",
       "      <td>93.749</td>\n",
       "      <td>0.579349</td>\n",
       "      <td>0.335645</td>\n",
       "      <td>92.201</td>\n",
       "      <td>92.201</td>\n",
       "      <td>92.7130</td>\n",
       "      <td>92.893</td>\n",
       "      <td>93.075</td>\n",
       "      <td>93.749</td>\n",
       "      <td>93.994</td>\n",
       "      <td>94.465</td>\n",
       "      <td>94.465</td>\n",
       "      <td>94.601</td>\n",
       "      <td>94.767</td>\n",
       "    </tr>\n",
       "    <tr>\n",
       "      <th>cons.conf.idx</th>\n",
       "      <td>4119.0</td>\n",
       "      <td>0.0</td>\n",
       "      <td>-1.668158e+05</td>\n",
       "      <td>-40.499102</td>\n",
       "      <td>-41.800</td>\n",
       "      <td>4.594578</td>\n",
       "      <td>21.110142</td>\n",
       "      <td>-50.800</td>\n",
       "      <td>-50.000</td>\n",
       "      <td>-47.1000</td>\n",
       "      <td>-46.200</td>\n",
       "      <td>-42.700</td>\n",
       "      <td>-41.800</td>\n",
       "      <td>-36.400</td>\n",
       "      <td>-36.100</td>\n",
       "      <td>-33.600</td>\n",
       "      <td>-26.900</td>\n",
       "      <td>-26.900</td>\n",
       "    </tr>\n",
       "    <tr>\n",
       "      <th>euribor3m</th>\n",
       "      <td>4119.0</td>\n",
       "      <td>0.0</td>\n",
       "      <td>1.491636e+04</td>\n",
       "      <td>3.621356</td>\n",
       "      <td>4.857</td>\n",
       "      <td>1.733591</td>\n",
       "      <td>3.005339</td>\n",
       "      <td>0.635</td>\n",
       "      <td>0.677</td>\n",
       "      <td>0.8084</td>\n",
       "      <td>1.029</td>\n",
       "      <td>1.334</td>\n",
       "      <td>4.857</td>\n",
       "      <td>4.961</td>\n",
       "      <td>4.964</td>\n",
       "      <td>4.966</td>\n",
       "      <td>4.968</td>\n",
       "      <td>5.045</td>\n",
       "    </tr>\n",
       "    <tr>\n",
       "      <th>nr.employed</th>\n",
       "      <td>4119.0</td>\n",
       "      <td>0.0</td>\n",
       "      <td>2.128074e+07</td>\n",
       "      <td>5166.481695</td>\n",
       "      <td>5191.000</td>\n",
       "      <td>73.667904</td>\n",
       "      <td>5426.960015</td>\n",
       "      <td>4963.600</td>\n",
       "      <td>4963.600</td>\n",
       "      <td>5008.7000</td>\n",
       "      <td>5076.200</td>\n",
       "      <td>5099.100</td>\n",
       "      <td>5191.000</td>\n",
       "      <td>5228.100</td>\n",
       "      <td>5228.100</td>\n",
       "      <td>5228.100</td>\n",
       "      <td>5228.100</td>\n",
       "      <td>5228.100</td>\n",
       "    </tr>\n",
       "  </tbody>\n",
       "</table>\n",
       "</div>"
      ],
      "text/plain": [
       "                     N  NMISS           SUM         MEAN    MEDIAN  \\\n",
       "age             4119.0    0.0  1.652280e+05    40.113620    38.000   \n",
       "duration        4119.0    0.0  1.057710e+06   256.788055   181.000   \n",
       "campaign        4119.0    0.0  1.045100e+04     2.537266     2.000   \n",
       "pdays           4119.0    0.0  3.955979e+06   960.422190   999.000   \n",
       "previous        4119.0    0.0  7.840000e+02     0.190337     0.000   \n",
       "emp.var.rate    4119.0    0.0  3.500000e+02     0.084972     1.100   \n",
       "cons.price.idx  4119.0    0.0  3.854548e+05    93.579704    93.749   \n",
       "cons.conf.idx   4119.0    0.0 -1.668158e+05   -40.499102   -41.800   \n",
       "euribor3m       4119.0    0.0  1.491636e+04     3.621356     4.857   \n",
       "nr.employed     4119.0    0.0  2.128074e+07  5166.481695  5191.000   \n",
       "\n",
       "                       STD           VAR       MIN        P1         P5  \\\n",
       "age              10.313362    106.365426    18.000    24.000    26.0000   \n",
       "duration        254.703736  64873.993194     0.000    11.000    35.0000   \n",
       "campaign          2.568159      6.595442     1.000     1.000     1.0000   \n",
       "pdays           191.922786  36834.355710     0.000     3.000   999.0000   \n",
       "previous          0.541788      0.293535     0.000     0.000     0.0000   \n",
       "emp.var.rate      1.563114      2.443327    -3.400    -3.400    -2.9000   \n",
       "cons.price.idx    0.579349      0.335645    92.201    92.201    92.7130   \n",
       "cons.conf.idx     4.594578     21.110142   -50.800   -50.000   -47.1000   \n",
       "euribor3m         1.733591      3.005339     0.635     0.677     0.8084   \n",
       "nr.employed      73.667904   5426.960015  4963.600  4963.600  5008.7000   \n",
       "\n",
       "                     P10       P25       P50       P75       P90       P95  \\\n",
       "age               28.800    32.000    38.000    47.000    55.000    58.000   \n",
       "duration          60.000   103.000   181.000   317.000   545.200   740.200   \n",
       "campaign           1.000     1.000     2.000     3.000     5.000     7.000   \n",
       "pdays            999.000   999.000   999.000   999.000   999.000   999.000   \n",
       "previous           0.000     0.000     0.000     0.000     1.000     1.000   \n",
       "emp.var.rate      -1.800    -1.800     1.100     1.400     1.400     1.400   \n",
       "cons.price.idx    92.893    93.075    93.749    93.994    94.465    94.465   \n",
       "cons.conf.idx    -46.200   -42.700   -41.800   -36.400   -36.100   -33.600   \n",
       "euribor3m          1.029     1.334     4.857     4.961     4.964     4.966   \n",
       "nr.employed     5076.200  5099.100  5191.000  5228.100  5228.100  5228.100   \n",
       "\n",
       "                     P99       MAX  \n",
       "age               68.000    88.000  \n",
       "duration        1231.660  3643.000  \n",
       "campaign          13.000    35.000  \n",
       "pdays            999.000   999.000  \n",
       "previous           3.000     6.000  \n",
       "emp.var.rate       1.400     1.400  \n",
       "cons.price.idx    94.601    94.767  \n",
       "cons.conf.idx    -26.900   -26.900  \n",
       "euribor3m          4.968     5.045  \n",
       "nr.employed     5228.100  5228.100  "
      ]
     },
     "execution_count": 10,
     "metadata": {},
     "output_type": "execute_result"
    }
   ],
   "source": [
    "# summaries of continuous variables\n",
    "data.select_dtypes(['float64', 'int64']).apply(continuous_var_summary).T"
   ]
  },
  {
   "cell_type": "code",
   "execution_count": 11,
   "metadata": {
    "scrolled": true
   },
   "outputs": [
    {
     "data": {
      "text/html": [
       "<div>\n",
       "<style scoped>\n",
       "    .dataframe tbody tr th:only-of-type {\n",
       "        vertical-align: middle;\n",
       "    }\n",
       "\n",
       "    .dataframe tbody tr th {\n",
       "        vertical-align: top;\n",
       "    }\n",
       "\n",
       "    .dataframe thead th {\n",
       "        text-align: right;\n",
       "    }\n",
       "</style>\n",
       "<table border=\"1\" class=\"dataframe\">\n",
       "  <thead>\n",
       "    <tr style=\"text-align: right;\">\n",
       "      <th></th>\n",
       "      <th>N</th>\n",
       "      <th>NMISS</th>\n",
       "      <th>MODE</th>\n",
       "      <th>FREQ</th>\n",
       "      <th>PERCENT</th>\n",
       "    </tr>\n",
       "  </thead>\n",
       "  <tbody>\n",
       "    <tr>\n",
       "      <th>job</th>\n",
       "      <td>4119</td>\n",
       "      <td>0</td>\n",
       "      <td>admin.</td>\n",
       "      <td>1012</td>\n",
       "      <td>24.57</td>\n",
       "    </tr>\n",
       "    <tr>\n",
       "      <th>marital</th>\n",
       "      <td>4119</td>\n",
       "      <td>0</td>\n",
       "      <td>married</td>\n",
       "      <td>2509</td>\n",
       "      <td>60.91</td>\n",
       "    </tr>\n",
       "    <tr>\n",
       "      <th>education</th>\n",
       "      <td>4119</td>\n",
       "      <td>0</td>\n",
       "      <td>university.degree</td>\n",
       "      <td>1264</td>\n",
       "      <td>30.69</td>\n",
       "    </tr>\n",
       "    <tr>\n",
       "      <th>default</th>\n",
       "      <td>4119</td>\n",
       "      <td>0</td>\n",
       "      <td>no</td>\n",
       "      <td>3315</td>\n",
       "      <td>80.48</td>\n",
       "    </tr>\n",
       "    <tr>\n",
       "      <th>housing</th>\n",
       "      <td>4119</td>\n",
       "      <td>0</td>\n",
       "      <td>yes</td>\n",
       "      <td>2175</td>\n",
       "      <td>52.8</td>\n",
       "    </tr>\n",
       "    <tr>\n",
       "      <th>loan</th>\n",
       "      <td>4119</td>\n",
       "      <td>0</td>\n",
       "      <td>no</td>\n",
       "      <td>3349</td>\n",
       "      <td>81.31</td>\n",
       "    </tr>\n",
       "    <tr>\n",
       "      <th>contact</th>\n",
       "      <td>4119</td>\n",
       "      <td>0</td>\n",
       "      <td>cellular</td>\n",
       "      <td>2652</td>\n",
       "      <td>64.38</td>\n",
       "    </tr>\n",
       "    <tr>\n",
       "      <th>month</th>\n",
       "      <td>4119</td>\n",
       "      <td>0</td>\n",
       "      <td>may</td>\n",
       "      <td>1378</td>\n",
       "      <td>33.45</td>\n",
       "    </tr>\n",
       "    <tr>\n",
       "      <th>day_of_week</th>\n",
       "      <td>4119</td>\n",
       "      <td>0</td>\n",
       "      <td>thu</td>\n",
       "      <td>860</td>\n",
       "      <td>20.88</td>\n",
       "    </tr>\n",
       "    <tr>\n",
       "      <th>poutcome</th>\n",
       "      <td>4119</td>\n",
       "      <td>0</td>\n",
       "      <td>nonexistent</td>\n",
       "      <td>3523</td>\n",
       "      <td>85.53</td>\n",
       "    </tr>\n",
       "    <tr>\n",
       "      <th>y</th>\n",
       "      <td>4119</td>\n",
       "      <td>0</td>\n",
       "      <td>no</td>\n",
       "      <td>3668</td>\n",
       "      <td>89.05</td>\n",
       "    </tr>\n",
       "  </tbody>\n",
       "</table>\n",
       "</div>"
      ],
      "text/plain": [
       "                N NMISS               MODE  FREQ PERCENT\n",
       "job          4119     0             admin.  1012   24.57\n",
       "marital      4119     0            married  2509   60.91\n",
       "education    4119     0  university.degree  1264   30.69\n",
       "default      4119     0                 no  3315   80.48\n",
       "housing      4119     0                yes  2175    52.8\n",
       "loan         4119     0                 no  3349   81.31\n",
       "contact      4119     0           cellular  2652   64.38\n",
       "month        4119     0                may  1378   33.45\n",
       "day_of_week  4119     0                thu   860   20.88\n",
       "poutcome     4119     0        nonexistent  3523   85.53\n",
       "y            4119     0                 no  3668   89.05"
      ]
     },
     "execution_count": 11,
     "metadata": {},
     "output_type": "execute_result"
    }
   ],
   "source": [
    "# summaries of object variables\n",
    "data.select_dtypes(['object']).apply(categorical_var_summary).T"
   ]
  },
  {
   "cell_type": "code",
   "execution_count": 12,
   "metadata": {},
   "outputs": [],
   "source": [
    "# Labelling y column to 1, 0 values which is orginally stored as yes,no\n",
    "data['y'] = data['y'].str.lower().replace({'yes': 1, 'no': 0})"
   ]
  },
  {
   "cell_type": "code",
   "execution_count": 13,
   "metadata": {},
   "outputs": [
    {
     "data": {
      "text/html": [
       "<div>\n",
       "<style scoped>\n",
       "    .dataframe tbody tr th:only-of-type {\n",
       "        vertical-align: middle;\n",
       "    }\n",
       "\n",
       "    .dataframe tbody tr th {\n",
       "        vertical-align: top;\n",
       "    }\n",
       "\n",
       "    .dataframe thead th {\n",
       "        text-align: right;\n",
       "    }\n",
       "</style>\n",
       "<table border=\"1\" class=\"dataframe\">\n",
       "  <thead>\n",
       "    <tr style=\"text-align: right;\">\n",
       "      <th></th>\n",
       "      <th>age</th>\n",
       "      <th>job</th>\n",
       "      <th>marital</th>\n",
       "      <th>education</th>\n",
       "      <th>default</th>\n",
       "      <th>housing</th>\n",
       "      <th>loan</th>\n",
       "      <th>contact</th>\n",
       "      <th>month</th>\n",
       "      <th>day_of_week</th>\n",
       "      <th>...</th>\n",
       "      <th>campaign</th>\n",
       "      <th>pdays</th>\n",
       "      <th>previous</th>\n",
       "      <th>poutcome</th>\n",
       "      <th>emp.var.rate</th>\n",
       "      <th>cons.price.idx</th>\n",
       "      <th>cons.conf.idx</th>\n",
       "      <th>euribor3m</th>\n",
       "      <th>nr.employed</th>\n",
       "      <th>y</th>\n",
       "    </tr>\n",
       "  </thead>\n",
       "  <tbody>\n",
       "    <tr>\n",
       "      <th>0</th>\n",
       "      <td>30</td>\n",
       "      <td>blue-collar</td>\n",
       "      <td>married</td>\n",
       "      <td>basic.9y</td>\n",
       "      <td>no</td>\n",
       "      <td>yes</td>\n",
       "      <td>no</td>\n",
       "      <td>cellular</td>\n",
       "      <td>may</td>\n",
       "      <td>fri</td>\n",
       "      <td>...</td>\n",
       "      <td>2</td>\n",
       "      <td>999</td>\n",
       "      <td>0</td>\n",
       "      <td>nonexistent</td>\n",
       "      <td>-1.8</td>\n",
       "      <td>92.893</td>\n",
       "      <td>-46.2</td>\n",
       "      <td>1.313</td>\n",
       "      <td>5099.1</td>\n",
       "      <td>0</td>\n",
       "    </tr>\n",
       "    <tr>\n",
       "      <th>1</th>\n",
       "      <td>39</td>\n",
       "      <td>services</td>\n",
       "      <td>single</td>\n",
       "      <td>high.school</td>\n",
       "      <td>no</td>\n",
       "      <td>no</td>\n",
       "      <td>no</td>\n",
       "      <td>telephone</td>\n",
       "      <td>may</td>\n",
       "      <td>fri</td>\n",
       "      <td>...</td>\n",
       "      <td>4</td>\n",
       "      <td>999</td>\n",
       "      <td>0</td>\n",
       "      <td>nonexistent</td>\n",
       "      <td>1.1</td>\n",
       "      <td>93.994</td>\n",
       "      <td>-36.4</td>\n",
       "      <td>4.855</td>\n",
       "      <td>5191.0</td>\n",
       "      <td>0</td>\n",
       "    </tr>\n",
       "    <tr>\n",
       "      <th>2</th>\n",
       "      <td>25</td>\n",
       "      <td>services</td>\n",
       "      <td>married</td>\n",
       "      <td>high.school</td>\n",
       "      <td>no</td>\n",
       "      <td>yes</td>\n",
       "      <td>no</td>\n",
       "      <td>telephone</td>\n",
       "      <td>jun</td>\n",
       "      <td>wed</td>\n",
       "      <td>...</td>\n",
       "      <td>1</td>\n",
       "      <td>999</td>\n",
       "      <td>0</td>\n",
       "      <td>nonexistent</td>\n",
       "      <td>1.4</td>\n",
       "      <td>94.465</td>\n",
       "      <td>-41.8</td>\n",
       "      <td>4.962</td>\n",
       "      <td>5228.1</td>\n",
       "      <td>0</td>\n",
       "    </tr>\n",
       "    <tr>\n",
       "      <th>3</th>\n",
       "      <td>38</td>\n",
       "      <td>services</td>\n",
       "      <td>married</td>\n",
       "      <td>basic.9y</td>\n",
       "      <td>no</td>\n",
       "      <td>unknown</td>\n",
       "      <td>unknown</td>\n",
       "      <td>telephone</td>\n",
       "      <td>jun</td>\n",
       "      <td>fri</td>\n",
       "      <td>...</td>\n",
       "      <td>3</td>\n",
       "      <td>999</td>\n",
       "      <td>0</td>\n",
       "      <td>nonexistent</td>\n",
       "      <td>1.4</td>\n",
       "      <td>94.465</td>\n",
       "      <td>-41.8</td>\n",
       "      <td>4.959</td>\n",
       "      <td>5228.1</td>\n",
       "      <td>0</td>\n",
       "    </tr>\n",
       "    <tr>\n",
       "      <th>4</th>\n",
       "      <td>47</td>\n",
       "      <td>admin.</td>\n",
       "      <td>married</td>\n",
       "      <td>university.degree</td>\n",
       "      <td>no</td>\n",
       "      <td>yes</td>\n",
       "      <td>no</td>\n",
       "      <td>cellular</td>\n",
       "      <td>nov</td>\n",
       "      <td>mon</td>\n",
       "      <td>...</td>\n",
       "      <td>1</td>\n",
       "      <td>999</td>\n",
       "      <td>0</td>\n",
       "      <td>nonexistent</td>\n",
       "      <td>-0.1</td>\n",
       "      <td>93.200</td>\n",
       "      <td>-42.0</td>\n",
       "      <td>4.191</td>\n",
       "      <td>5195.8</td>\n",
       "      <td>0</td>\n",
       "    </tr>\n",
       "  </tbody>\n",
       "</table>\n",
       "<p>5 rows × 21 columns</p>\n",
       "</div>"
      ],
      "text/plain": [
       "   age          job  marital          education default  housing     loan  \\\n",
       "0   30  blue-collar  married           basic.9y      no      yes       no   \n",
       "1   39     services   single        high.school      no       no       no   \n",
       "2   25     services  married        high.school      no      yes       no   \n",
       "3   38     services  married           basic.9y      no  unknown  unknown   \n",
       "4   47       admin.  married  university.degree      no      yes       no   \n",
       "\n",
       "     contact month day_of_week  ...  campaign  pdays  previous     poutcome  \\\n",
       "0   cellular   may         fri  ...         2    999         0  nonexistent   \n",
       "1  telephone   may         fri  ...         4    999         0  nonexistent   \n",
       "2  telephone   jun         wed  ...         1    999         0  nonexistent   \n",
       "3  telephone   jun         fri  ...         3    999         0  nonexistent   \n",
       "4   cellular   nov         mon  ...         1    999         0  nonexistent   \n",
       "\n",
       "  emp.var.rate  cons.price.idx  cons.conf.idx  euribor3m  nr.employed  y  \n",
       "0         -1.8          92.893          -46.2      1.313       5099.1  0  \n",
       "1          1.1          93.994          -36.4      4.855       5191.0  0  \n",
       "2          1.4          94.465          -41.8      4.962       5228.1  0  \n",
       "3          1.4          94.465          -41.8      4.959       5228.1  0  \n",
       "4         -0.1          93.200          -42.0      4.191       5195.8  0  \n",
       "\n",
       "[5 rows x 21 columns]"
      ]
     },
     "execution_count": 13,
     "metadata": {},
     "output_type": "execute_result"
    }
   ],
   "source": [
    "data.head()"
   ]
  },
  {
   "cell_type": "code",
   "execution_count": 14,
   "metadata": {},
   "outputs": [],
   "source": [
    "# get the dummy variables\n",
    "for c_feature in data.select_dtypes(['object']).columns:\n",
    "    data = create_dummies(data, c_feature)"
   ]
  },
  {
   "cell_type": "code",
   "execution_count": 15,
   "metadata": {},
   "outputs": [
    {
     "data": {
      "text/plain": [
       "(4119, 54)"
      ]
     },
     "execution_count": 15,
     "metadata": {},
     "output_type": "execute_result"
    }
   ],
   "source": [
    "data.shape"
   ]
  },
  {
   "cell_type": "code",
   "execution_count": 16,
   "metadata": {},
   "outputs": [
    {
     "data": {
      "text/plain": [
       "Index(['age', 'duration', 'campaign', 'pdays', 'previous', 'emp.var.rate',\n",
       "       'cons.price.idx', 'cons.conf.idx', 'euribor3m', 'nr.employed', 'y',\n",
       "       'job_blue-collar', 'job_entrepreneur', 'job_housemaid',\n",
       "       'job_management', 'job_retired', 'job_self-employed', 'job_services',\n",
       "       'job_student', 'job_technician', 'job_unemployed', 'job_unknown',\n",
       "       'marital_married', 'marital_single', 'marital_unknown',\n",
       "       'education_basic.6y', 'education_basic.9y', 'education_high.school',\n",
       "       'education_illiterate', 'education_professional.course',\n",
       "       'education_university.degree', 'education_unknown', 'default_unknown',\n",
       "       'default_yes', 'housing_unknown', 'housing_yes', 'loan_unknown',\n",
       "       'loan_yes', 'contact_telephone', 'month_aug', 'month_dec', 'month_jul',\n",
       "       'month_jun', 'month_mar', 'month_may', 'month_nov', 'month_oct',\n",
       "       'month_sep', 'day_of_week_mon', 'day_of_week_thu', 'day_of_week_tue',\n",
       "       'day_of_week_wed', 'poutcome_nonexistent', 'poutcome_success'],\n",
       "      dtype='object')"
      ]
     },
     "execution_count": 16,
     "metadata": {},
     "output_type": "execute_result"
    }
   ],
   "source": [
    "data.columns"
   ]
  },
  {
   "cell_type": "markdown",
   "metadata": {},
   "source": [
    "##### Feature Selection\n",
    "Recursive Feature Elimination (RFE) is based on the idea to repeatedly construct a model and choose either the best or worst performing feature, setting the feature aside and then repeating the process with the rest of the features. This process is applied until all features in the dataset are exhausted. The goal of RFE is to select features by recursively considering smaller and smaller sets of features."
   ]
  },
  {
   "cell_type": "code",
   "execution_count": 17,
   "metadata": {},
   "outputs": [],
   "source": [
    "# import the necessary packages\n",
    "from sklearn.linear_model import LogisticRegression\n",
    "from sklearn.feature_selection import RFE"
   ]
  },
  {
   "cell_type": "code",
   "execution_count": 18,
   "metadata": {},
   "outputs": [],
   "source": [
    "# get the y and X varaibales\n",
    "y_var = 'y'\n",
    "X_var = data.columns.difference(['y'])"
   ]
  },
  {
   "cell_type": "code",
   "execution_count": 19,
   "metadata": {
    "scrolled": false
   },
   "outputs": [
    {
     "name": "stdout",
     "output_type": "stream",
     "text": [
      "[False False False False  True False False False False False False False\n",
      " False False False False False False  True False  True  True False  True\n",
      "  True False  True  True  True  True False False False False  True False\n",
      " False False False False  True  True  True  True  True False False  True\n",
      " False False  True  True  True]\n",
      "[30 10 14 16  1 17 34 18  3 27 33 29 12 15  6 25 23 24  1 11  1  1  2  1\n",
      "  1 28  1  1  1  1 21 20  4 26  1  7  8  9 31 13  1  1  1  1  1  5 19  1\n",
      " 22 32  1  1  1]\n"
     ]
    }
   ],
   "source": [
    "# RFE\n",
    "logreg = LogisticRegression(solver = 'lbfgs', max_iter = 10000)\n",
    "rfe = RFE(logreg, 20)\n",
    "rfe = rfe.fit(data[X_var], data[y_var])\n",
    "\n",
    "print(rfe.support_)\n",
    "print(rfe.ranking_)"
   ]
  },
  {
   "cell_type": "code",
   "execution_count": 20,
   "metadata": {},
   "outputs": [],
   "source": [
    "X_final = data[X_var[rfe.support_]]\n",
    "y_final = data['y']"
   ]
  },
  {
   "cell_type": "markdown",
   "metadata": {},
   "source": [
    "### Build the model\n",
    "\n"
   ]
  },
  {
   "cell_type": "code",
   "execution_count": 21,
   "metadata": {},
   "outputs": [],
   "source": [
    "from sklearn.model_selection import train_test_split\n",
    "X_train, X_test, y_train, y_test = train_test_split(X_final, y_final, \n",
    "                                                    test_size = 0.3, random_state = 12345)"
   ]
  },
  {
   "cell_type": "markdown",
   "metadata": {},
   "source": [
    "#### Naive Bayesian"
   ]
  },
  {
   "cell_type": "code",
   "execution_count": 22,
   "metadata": {},
   "outputs": [],
   "source": [
    "# import the packages\n",
    "from sklearn.naive_bayes import GaussianNB\n",
    "from sklearn.naive_bayes import BernoulliNB\n",
    "from sklearn.naive_bayes import MultinomialNB\n",
    "\n",
    "from sklearn import metrics "
   ]
  },
  {
   "cell_type": "markdown",
   "metadata": {},
   "source": [
    "*GaussianNB: When independent variables include continous* <br>\n",
    "*BernoulliNB: When data consists of binary categorical independent vars* <br>\n",
    "*MultinomialNB: When data consists of categorical independent vars*"
   ]
  },
  {
   "cell_type": "code",
   "execution_count": 26,
   "metadata": {},
   "outputs": [
    {
     "data": {
      "text/plain": [
       "GaussianNB(priors=None, var_smoothing=1e-09)"
      ]
     },
     "execution_count": 26,
     "metadata": {},
     "output_type": "execute_result"
    }
   ],
   "source": [
    "# build the NB model\n",
    "nb_clf = GaussianNB()\n",
    "nb_clf.fit(X_final, y_final)"
   ]
  },
  {
   "cell_type": "code",
   "execution_count": 27,
   "metadata": {},
   "outputs": [
    {
     "name": "stdout",
     "output_type": "stream",
     "text": [
      "0.8806798473812001\n",
      "0.8737864077669902\n"
     ]
    }
   ],
   "source": [
    "# get the model accuracy\n",
    "print(metrics.accuracy_score(y_train, nb_clf.predict(X_train)))\n",
    "print(metrics.accuracy_score(y_test, nb_clf.predict(X_test)))"
   ]
  },
  {
   "cell_type": "code",
   "execution_count": 32,
   "metadata": {},
   "outputs": [],
   "source": [
    "# get the probability score on training and testing\n",
    "train_predict_prob = pd.DataFrame(nb_clf.predict(X_train))\n",
    "test_predict_prob = pd.DataFrame(nb_clf.predict(X_test))"
   ]
  },
  {
   "cell_type": "code",
   "execution_count": 33,
   "metadata": {},
   "outputs": [
    {
     "name": "stdout",
     "output_type": "stream",
     "text": [
      "0.6545022993621125\n",
      "0.6681149732620321\n"
     ]
    }
   ],
   "source": [
    "# get the model auc\n",
    "print(metrics.roc_auc_score(y_train, train_predict_prob))\n",
    "print(metrics.roc_auc_score(y_test, test_predict_prob))"
   ]
  },
  {
   "cell_type": "code",
   "execution_count": 34,
   "metadata": {},
   "outputs": [],
   "source": [
    "# confusion matrix\n",
    "nb_cm = metrics.confusion_matrix( y_test, nb_clf.predict( X_test ))"
   ]
  },
  {
   "cell_type": "code",
   "execution_count": 35,
   "metadata": {},
   "outputs": [
    {
     "data": {
      "text/plain": [
       "Text(0.5, 12.5, 'Predicted label')"
      ]
     },
     "execution_count": 35,
     "metadata": {},
     "output_type": "execute_result"
    },
    {
     "data": {
      "image/png": "[encoded data removed]",
      "text/plain": [
       "<Figure size 432x288 with 2 Axes>"
      ]
     },
     "metadata": {
      "needs_background": "light"
     },
     "output_type": "display_data"
    }
   ],
   "source": [
    "sns.heatmap(nb_cm, annot=True,  fmt='.2f', xticklabels = [\"No\", \"Yes\"] , yticklabels = [\"No\", \"Yes\"] )\n",
    "plt.ylabel('True label')\n",
    "plt.xlabel('Predicted label')"
   ]
  },
  {
   "cell_type": "code",
   "execution_count": 36,
   "metadata": {},
   "outputs": [],
   "source": [
    "MultinomialNB?"
   ]
  },
  {
   "cell_type": "code",
   "execution_count": null,
   "metadata": {},
   "outputs": [],
   "source": []
  }
 ],
 "metadata": {
  "kernelspec": {
   "display_name": "Python 3",
   "language": "python",
   "name": "python3"
  },
  "language_info": {
   "codemirror_mode": {
    "name": "ipython",
    "version": 3
   },
   "file_extension": ".py",
   "mimetype": "text/x-python",
   "name": "python",
   "nbconvert_exporter": "python",
   "pygments_lexer": "ipython3",
   "version": "3.7.3"
  }
 },
 "nbformat": 4,
 "nbformat_minor": 2
}
